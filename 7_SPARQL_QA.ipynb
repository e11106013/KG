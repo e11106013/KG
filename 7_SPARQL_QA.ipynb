{
 "cells": [
  {
   "cell_type": "code",
   "execution_count": 1,
   "metadata": {},
   "outputs": [],
   "source": [
    "from langchain.agents import Tool\n",
    "from SPARQLWrapper import SPARQLWrapper, JSON\n",
    "\n",
    "def query_virtuoso_kg(sparql_query: str) -> str:\n",
    "    sparql = SPARQLWrapper(\"http://192.168.133.39:8890/sparql/\")  # 你自己的 SPARQL endpoint\n",
    "    sparql.setQuery(sparql_query)\n",
    "    sparql.setReturnFormat(JSON)\n",
    "    results = sparql.query().convert()\n",
    "    return str(results[\"results\"][\"bindings\"])\n",
    "\n",
    "# 註冊為工具\n",
    "sparql_tool = Tool(\n",
    "    name=\"VirtuosoKGQuery\",\n",
    "    func=query_virtuoso_kg,\n",
    "    description=\"查詢本地知識圖譜的 SPARQL 工具，使用 RDF 知識\"\n",
    ")\n"
   ]
  },
  {
   "cell_type": "code",
   "execution_count": 2,
   "metadata": {},
   "outputs": [],
   "source": [
    "from langchain_openai import ChatOpenAI\n",
    "import os\n",
    "\n",
    "# 設置 LLM 模型\n",
    "#API#1\n",
    "#os.environ[\"GROQ_API_KEY\"] = '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'\n",
    "#API#2\n",
    "#s.environ[\"GROQ_API_KEY\"] = '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'\n",
    "#API#3\n",
    "os.environ[\"GROQ_API_KEY\"] = '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'\n",
    "#API#4\n",
    "#os.environ[\"GROQ_API_KEY\"] = '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'\n",
    "#API#5\n",
    "#os.environ[\"GROQ_API_KEY\"] = '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'\n",
    "\n",
    "llm = ChatOpenAI(\n",
    "    openai_api_base=\"https://api.groq.com/openai/v1\",\n",
    "    openai_api_key=os.environ['GROQ_API_KEY'],\n",
    "\n",
    "    model_name=\"llama-3.3-70b-versatile\",       \n",
    "\n",
    "    temperature=0.0,\n",
    "  #  max_tokens=1000,\n",
    ")"
   ]
  },
  {
   "cell_type": "code",
   "execution_count": 13,
   "metadata": {},
   "outputs": [
    {
     "ename": "NameError",
     "evalue": "name 'sparql_tool' is not defined",
     "output_type": "error",
     "traceback": [
      "\u001b[1;31m---------------------------------------------------------------------------\u001b[0m",
      "\u001b[1;31mNameError\u001b[0m                                 Traceback (most recent call last)",
      "Cell \u001b[1;32mIn[13], line 6\u001b[0m\n\u001b[0;32m      2\u001b[0m \u001b[38;5;28;01mfrom\u001b[39;00m\u001b[38;5;250m \u001b[39m\u001b[38;5;21;01mlangchain\u001b[39;00m\u001b[38;5;21;01m.\u001b[39;00m\u001b[38;5;21;01mllms\u001b[39;00m\u001b[38;5;250m \u001b[39m\u001b[38;5;28;01mimport\u001b[39;00m OpenAI\n\u001b[0;32m      4\u001b[0m \u001b[38;5;66;03m#llm = OpenAI(temperature=0)\u001b[39;00m\n\u001b[0;32m      5\u001b[0m agent \u001b[38;5;241m=\u001b[39m initialize_agent(\n\u001b[1;32m----> 6\u001b[0m     tools\u001b[38;5;241m=\u001b[39m[\u001b[43msparql_tool\u001b[49m],\n\u001b[0;32m      7\u001b[0m     llm\u001b[38;5;241m=\u001b[39mllm,\n\u001b[0;32m      8\u001b[0m     agent\u001b[38;5;241m=\u001b[39m\u001b[38;5;124m\"\u001b[39m\u001b[38;5;124mzero-shot-react-description\u001b[39m\u001b[38;5;124m\"\u001b[39m,\n\u001b[0;32m      9\u001b[0m     verbose\u001b[38;5;241m=\u001b[39m\u001b[38;5;28;01mTrue\u001b[39;00m,\n\u001b[0;32m     10\u001b[0m )\n\u001b[0;32m     12\u001b[0m response \u001b[38;5;241m=\u001b[39m agent\u001b[38;5;241m.\u001b[39mrun(\u001b[38;5;124m\"\u001b[39m\u001b[38;5;124m請查詢 \u001b[39m\u001b[38;5;124m'\u001b[39m\u001b[38;5;124m蔣中正\u001b[39m\u001b[38;5;124m'\u001b[39m\u001b[38;5;124m 的職業\u001b[39m\u001b[38;5;124m\"\u001b[39m)\n",
      "\u001b[1;31mNameError\u001b[0m: name 'sparql_tool' is not defined"
     ]
    }
   ],
   "source": [
    "from langchain.agents import initialize_agent\n",
    "from langchain.llms import OpenAI\n",
    "\n",
    "#llm = OpenAI(temperature=0)\n",
    "agent = initialize_agent(\n",
    "    tools=[sparql_tool],\n",
    "    llm=llm,\n",
    "    agent=\"zero-shot-react-description\",\n",
    "    verbose=True,\n",
    ")\n",
    "\n",
    "response = agent.run(\"請查詢 '蔣中正' 的職業\")\n"
   ]
  },
  {
   "cell_type": "code",
   "execution_count": null,
   "metadata": {},
   "outputs": [],
   "source": [
    "def query_virtuoso_kg(sparql_query: str) -> str:\n",
    "    sparql = SPARQLWrapper(\"http://192.168.133.39:8890/sparql/\")  # 你自己的 SPARQL endpoint\n",
    "    sparql.setQuery(sparql_query)\n",
    "    sparql.setReturnFormat(JSON)\n",
    "    results = sparql.query().convert()\n",
    "    return str(results[\"results\"][\"bindings\"])\n",
    "\n",
    "# 註冊為工具\n",
    "sparql_tool = Tool(\n",
    "    name=\"VirtuosoKGQuery\",\n",
    "    func=query_virtuoso_kg,\n",
    "    description=\"查詢本地知識圖譜的 SPARQL 工具，使用 RDF 知識\"\n",
    ")\n"
   ]
  },
  {
   "cell_type": "code",
   "execution_count": 11,
   "metadata": {},
   "outputs": [],
   "source": [
    "from langchain_core.prompts import ChatPromptTemplate, MessagesPlaceholder\n",
    "from langchain_openai import ChatOpenAI\n",
    "from langchain.agents import create_openai_functions_agent, AgentExecutor\n",
    "from langchain_core.tools import Tool\n",
    "\n",
    "# 你的 local_query_sparql 函式\n",
    "def local_query_sparql(sparql: str) -> dict:\n",
    "    sparql = SPARQLWrapper(\"http://192.168.133.39:8890/sparql/\")  # 你自己的 SPARQL endpoint\n",
    "    sparql.setQuery(sparql_query)\n",
    "    sparql.setReturnFormat(JSON)\n",
    "    results = sparql.query().convert()\n",
    "    return str(results[\"results\"][\"bindings\"])\n",
    "\n",
    "# 1. 包成 Tool\n",
    "sparql_query_tool = Tool.from_function(\n",
    "    name=\"LocalSPARQLQuery\",\n",
    "    description=\"查詢本地 SPARQL endpoint。輸入必須是一個 SPARQL 查詢字串。\",\n",
    "    func=local_query_sparql,\n",
    ")\n",
    "\n",
    "# 2. 設定 LLM\n",
    "#llm = ChatOpenAI(model=\"gpt-3.5-turbo\")\n"
   ]
  },
  {
   "cell_type": "code",
   "execution_count": 6,
   "metadata": {},
   "outputs": [],
   "source": [
    "from langchain_openai import ChatOpenAI\n",
    "import os\n",
    "\n",
    "# 設置 LLM 模型\n",
    "#API#1\n",
    "#os.environ[\"GROQ_API_KEY\"] = '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'\n",
    "#API#2\n",
    "#s.environ[\"GROQ_API_KEY\"] = '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'\n",
    "#API#3\n",
    "os.environ[\"GROQ_API_KEY\"] = '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'\n",
    "#API#4\n",
    "#os.environ[\"GROQ_API_KEY\"] = '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'\n",
    "#API#5\n",
    "#os.environ[\"GROQ_API_KEY\"] = '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'\n",
    "\n",
    "llm = ChatOpenAI(\n",
    "    openai_api_base=\"https://api.groq.com/openai/v1\",\n",
    "    openai_api_key=os.environ['GROQ_API_KEY'],\n",
    "\n",
    "    model_name=\"llama-3.3-70b-versatile\",       \n",
    "\n",
    "    temperature=0.0,\n",
    "  #  max_tokens=1000,\n",
    ")"
   ]
  },
  {
   "cell_type": "code",
   "execution_count": 12,
   "metadata": {},
   "outputs": [
    {
     "name": "stdout",
     "output_type": "stream",
     "text": [
      "{'input': '請查詢包含蔣中正的資料', 'output': ''}\n"
     ]
    }
   ],
   "source": [
    "\n",
    "# 3. 建立 Prompt（這很重要！）\n",
    "prompt = ChatPromptTemplate.from_messages([\n",
    "    (\"system\", \"你是專門幫助使用者查詢知識圖譜的助手，可以使用 SPARQL 查詢工具。請適時呼叫工具查詢。\"),\n",
    "    (\"user\", \"{input}\"),\n",
    "    MessagesPlaceholder(variable_name=\"agent_scratchpad\"),\n",
    "])\n",
    "\n",
    "# 4. 建立 Agent\n",
    "agent = create_openai_functions_agent(\n",
    "    llm=llm,\n",
    "    tools=[sparql_query_tool],\n",
    "    prompt=prompt,\n",
    ")\n",
    "\n",
    "# 5. 建立 AgentExecutor\n",
    "agent_executor = AgentExecutor(agent=agent, tools=[sparql_query_tool])\n",
    "\n",
    "# 6. 測試執行\n",
    "response = agent_executor.invoke({\n",
    "    \"input\": \"請查詢包含蔣中正的資料\"\n",
    "})\n",
    "\n",
    "print(response)"
   ]
  }
 ],
 "metadata": {
  "kernelspec": {
   "display_name": ".venv",
   "language": "python",
   "name": "python3"
  },
  "language_info": {
   "codemirror_mode": {
    "name": "ipython",
    "version": 3
   },
   "file_extension": ".py",
   "mimetype": "text/x-python",
   "name": "python",
   "nbconvert_exporter": "python",
   "pygments_lexer": "ipython3",
   "version": "3.10.11"
  }
 },
 "nbformat": 4,
 "nbformat_minor": 2
}
