{
 "cells": [
  {
   "cell_type": "code",
   "execution_count": 1,
   "metadata": {},
   "outputs": [],
   "source": [
    "import requests\n",
    "from string import Template\n",
    "\n",
    "# 定義 SPARQL 查詢函式\n",
    "def local_query_sparql(query: str) -> dict:\n",
    "    endpoint_url = \"http://192.168.133.39:8890/sparql\"\n",
    "    \n",
    "    # 設定正確的 Accept 標頭來請求 JSON 格式\n",
    "    headers = {\n",
    "        \"Accept\": \"application/sparql-results+json\"  # 確保請求結果為 JSON 格式\n",
    "    }\n",
    "    \n",
    "    params = {\n",
    "        \"query\": query\n",
    "    }\n",
    "    \n",
    "    response = requests.get(endpoint_url, headers=headers, params=params)\n",
    "    \n",
    "    # 如果返回成功，則解析 JSON\n",
    "    if response.status_code == 200:\n",
    "        return response.json()\n",
    "    else:\n",
    "        print(f\"SPARQL query failed: {response.status_code} - {response.text}\")\n",
    "        return {}\n",
    "\n",
    "# 定義查詢函式\n",
    "def query_entity_info(entity: str):\n",
    "    # 定義 SPARQL 查詢語句模板\n",
    "    sparql_template = \"\"\"\n",
    "    PREFIX rdfs: <http://www.w3.org/2000/01/rdf-schema#>\n",
    "    SELECT ?s ?label \n",
    "    WHERE { \n",
    "      ?s rdfs:label ?label . \n",
    "      FILTER (CONTAINS(STR(?label), \"$entity\"))\n",
    "    }\n",
    "    \"\"\"\n",
    "\n",
    "    # 使用 Template 來格式化查詢語句\n",
    "    template = Template(sparql_template)\n",
    "    sparql_query = template.substitute(entity=entity)\n",
    "\n",
    "    # 執行查詢並獲取結果\n",
    "    query_result = local_query_sparql(sparql_query)\n",
    "\n",
    "    # 處理查詢結果\n",
    "    if query_result:\n",
    "        if 'results' in query_result:\n",
    "            bindings = query_result['results']['bindings']\n",
    "            if bindings:\n",
    "                # 輸出查詢結果\n",
    "                for binding in bindings:\n",
    "                    subject = binding['s']['value']\n",
    "                    label = binding['label']['value']\n",
    "                    print(f\"Subject: {subject}, Label: {label}\")\n",
    "            else:\n",
    "                print(\"未找到匹配的結果\")\n",
    "        else:\n",
    "            print(\"查詢結果格式錯誤\")\n",
    "    else:\n",
    "        print(\"查詢失敗\")"
   ]
  },
  {
   "cell_type": "code",
   "execution_count": 4,
   "metadata": {},
   "outputs": [
    {
     "name": "stdout",
     "output_type": "stream",
     "text": [
      "Subject: http://example.org/doc/一紙命令，臺灣命運大不同─中國台灣省行政長官公署警備總司令部第一號令(1)#event_台灣接收, Label: 台灣接收\n",
      "Subject: http://example.org/doc/一紙命令，臺灣命運大不同─中國台灣省行政長官公署警備總司令部第一號令(1)#event_戰後接收台灣之準備, Label: 戰後接收台灣之準備\n",
      "Subject: http://www.wikidata.org/entity/Q6126202, Label: 台灣糖業公司\n",
      "Subject: http://example.org/doc/任重道遠─民國36年台灣省鐵路圖(11)#event_台灣鐵路的興建, Label: 台灣鐵路的興建\n",
      "Subject: http://www.wikidata.org/entity/Q30941702, Label: 台灣鐵路\n",
      "Subject: http://www.wikidata.org/entity/Q711691, Label: 台灣電力公司\n",
      "Subject: http://www.wikidata.org/entity/Q130317585, Label: 林爽文起事和台灣歷史發展\n",
      "Subject: http://www.wikidata.org/entity/Q697228, Label: 台灣光復節\n",
      "Subject: http://www.wikidata.org/entity/Q5564429, Label: 中華民國台灣女童軍\n",
      "Subject: http://example.org/doc/礦山記憶：探索金瓜石百年歷史風華(191)#event_改組為台灣金屬鑛業股份有限公司, Label: 改組為台灣金屬鑛業股份有限公司\n",
      "Subject: http://www.wikidata.org/entity/Q701364, Label: 台灣奇蹟\n",
      "Subject: http://www.wikidata.org/entity/Q715557, Label: 台灣經濟\n",
      "Subject: http://www.wikidata.org/entity/Q698485, Label: 台灣啤酒\n",
      "Subject: http://example.org/doc/醫療無國界─推行「中沙醫療合作計畫」(5)#event_成立台灣國際醫衛行動團隊, Label: 成立台灣國際醫衛行動團隊\n",
      "Subject: http://www.wikidata.org/entity/Q123224152, Label: 台灣農林股份有限公司\n",
      "Subject: http://example.org/doc/黃金歲月：臺灣鳳梨罐頭行銷全球(175)#event_成立台灣合同鳳梨株式會社, Label: 成立台灣合同鳳梨株式會社\n",
      "Subject: http://example.org/doc/黃金歲月：臺灣鳳梨罐頭行銷全球(175)#event_成立台灣鳳梨股份有限公司, Label: 成立台灣鳳梨股份有限公司\n"
     ]
    }
   ],
   "source": [
    "# 使用函式查詢實體資訊\n",
    "entity = \"台灣\"\n",
    "query_entity_info(entity)"
   ]
  }
 ],
 "metadata": {
  "kernelspec": {
   "display_name": ".venv",
   "language": "python",
   "name": "python3"
  },
  "language_info": {
   "codemirror_mode": {
    "name": "ipython",
    "version": 3
   },
   "file_extension": ".py",
   "mimetype": "text/x-python",
   "name": "python",
   "nbconvert_exporter": "python",
   "pygments_lexer": "ipython3",
   "version": "3.10.11"
  }
 },
 "nbformat": 4,
 "nbformat_minor": 2
}
